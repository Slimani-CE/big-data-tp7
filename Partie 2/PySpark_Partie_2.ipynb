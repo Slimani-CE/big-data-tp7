{
  "nbformat": 4,
  "nbformat_minor": 0,
  "metadata": {
    "colab": {
      "provenance": []
    },
    "kernelspec": {
      "name": "python3",
      "display_name": "Python 3"
    },
    "language_info": {
      "name": "python"
    }
  },
  "cells": [
    {
      "cell_type": "markdown",
      "source": [
        "# Partie 2"
      ],
      "metadata": {
        "id": "xfgGsJQGNiLU"
      }
    },
    {
      "cell_type": "code",
      "execution_count": null,
      "metadata": {
        "colab": {
          "base_uri": "https://localhost:8080/"
        },
        "id": "AGV8NAi5KUoW",
        "outputId": "eca845d5-a26d-477e-9b07-fb9afd878909"
      },
      "outputs": [
        {
          "output_type": "stream",
          "name": "stdout",
          "text": [
            "+---------+----------+---------------------------+--------+----------+\n",
            "|client_id|nom_client|nombre_appartements_achetes|revenues|     ville|\n",
            "+---------+----------+---------------------------+--------+----------+\n",
            "|        1|    Dubois|                          3|  150000|     Rabat|\n",
            "|        2|    Durand|                          2|  120000|Casablanca|\n",
            "|        3|    Dubois|                          2|   90000|     Rabat|\n",
            "|        4|    Martin|                          1|   50000|    Tanger|\n",
            "+---------+----------+---------------------------+--------+----------+\n",
            "\n"
          ]
        }
      ],
      "source": [
        "# prompt: PySpark connection to a json file called ventes.json\n",
        "from pyspark.sql import SparkSession\n",
        "\n",
        "spark = SparkSession.builder.getOrCreate()\n",
        "df = spark.read.option(\"multiline\", True).json('ventes.json')\n",
        "df.show()\n"
      ]
    },
    {
      "cell_type": "code",
      "source": [
        "# prompt: Afficher les deux première villes ou l’entreprise a réalisé plus de ventes (en terme de revenues).\n",
        "\n",
        "df.groupBy('ville').agg({'revenues': 'sum'}).orderBy('sum(revenues)', ascending=False).limit(2).show()\n"
      ],
      "metadata": {
        "colab": {
          "base_uri": "https://localhost:8080/"
        },
        "id": "ptK2KAX5LAig",
        "outputId": "e8d58a70-cbaa-490e-e72b-6473c33bf402"
      },
      "execution_count": null,
      "outputs": [
        {
          "output_type": "stream",
          "name": "stdout",
          "text": [
            "+----------+-------------+\n",
            "|     ville|sum(revenues)|\n",
            "+----------+-------------+\n",
            "|     Rabat|       240000|\n",
            "|Casablanca|       120000|\n",
            "+----------+-------------+\n",
            "\n"
          ]
        }
      ]
    },
    {
      "cell_type": "code",
      "source": [
        "# prompt: Afficher la liste des clients qui possèdent plus qu’un appartement à rabat.\n",
        "\n",
        "df.filter(df.ville == 'Rabat').groupBy('nom_client').count().filter('count > 1').show()"
      ],
      "metadata": {
        "colab": {
          "base_uri": "https://localhost:8080/"
        },
        "id": "ODW2b1tVLrQy",
        "outputId": "0a48c347-56ef-43ff-d29d-3dcc45f43d9f"
      },
      "execution_count": null,
      "outputs": [
        {
          "output_type": "stream",
          "name": "stdout",
          "text": [
            "+----------+-----+\n",
            "|nom_client|count|\n",
            "+----------+-----+\n",
            "|    Dubois|    2|\n",
            "+----------+-----+\n",
            "\n"
          ]
        }
      ]
    },
    {
      "cell_type": "code",
      "source": [
        "# prompt: Afficher le nombre d’appartements vendues à Casablanca.\n",
        "\n",
        "df.filter(df.ville == 'Casablanca').groupBy('nom_client').count().show()\n"
      ],
      "metadata": {
        "colab": {
          "base_uri": "https://localhost:8080/"
        },
        "id": "jEva-NxfMAUl",
        "outputId": "5cba1aaf-00bd-418e-a93d-f600ef364aa1"
      },
      "execution_count": null,
      "outputs": [
        {
          "output_type": "stream",
          "name": "stdout",
          "text": [
            "+----------+-----+\n",
            "|nom_client|count|\n",
            "+----------+-----+\n",
            "|    Durand|    1|\n",
            "+----------+-----+\n",
            "\n"
          ]
        }
      ]
    },
    {
      "cell_type": "code",
      "source": [],
      "metadata": {
        "id": "a4xma226NIhc"
      },
      "execution_count": null,
      "outputs": []
    }
  ]
}